{
 "cells": [
  {
   "cell_type": "code",
   "execution_count": 1,
   "metadata": {},
   "outputs": [],
   "source": [
    "## Import\n",
    "\n",
    "%matplotlib inline\n",
    "import numpy as np\n",
    "import pandas as pd\n",
    "import os\n",
    "import urllib.request\n",
    "import datetime\n",
    "import gzip\n",
    "import shutil\n",
    "\n",
    "listing_col = ['id',\n",
    "               'price',\n",
    "               'summary',\n",
    "               'neighbourhood_cleansed',\n",
    "               'property_type',\n",
    "               'room_type',\n",
    "               'price',\n",
    "               'number_of_reviews',\n",
    "               'instant_bookable',\n",
    "               'review_scores_rating',\n",
    "               'beds',\n",
    "               'bedrooms',\n",
    "               'bathrooms',\n",
    "               'accommodates',\n",
    "               'amenities', # Betekent voorzieningen\n",
    "               'cancellation_policy',\n",
    "               'reviews_per_month',\n",
    "               'latitude',\n",
    "               'longitude']\n"
   ]
  },
  {
   "cell_type": "code",
   "execution_count": 2,
   "metadata": {},
   "outputs": [],
   "source": [
    "# STEP 1 make a list of all dates of the range we want\n",
    "our_dates= []\n",
    "start = datetime.datetime.strptime(\"01-01-2018\", \"%d-%m-%Y\")  # we can change this\n",
    "end = datetime.datetime.strptime(\"01-02-2018\", \"%d-%m-%Y\")    # we can change this\n",
    "date_generated = [start + datetime.timedelta(days=x) for x in range(0, (end-start).days)]\n",
    "\n",
    "for date in date_generated:\n",
    "    our_dates.append(date.strftime(\"%Y-%m-%d\"))\n"
   ]
  },
  {
   "cell_type": "code",
   "execution_count": 13,
   "metadata": {},
   "outputs": [
    {
     "name": "stdout",
     "output_type": "stream",
     "text": [
      "Not Found\n",
      "Not Found\n",
      "Not Found\n",
      "Not Found\n",
      "Not Found\n",
      "Not Found\n",
      "Not Found\n",
      "Not Found\n",
      "Not Found\n",
      "found : 2018-01-10\n",
      "Not Found\n",
      "Not Found\n",
      "Not Found\n",
      "Not Found\n",
      "Not Found\n",
      "Not Found\n",
      "Not Found\n",
      "Not Found\n",
      "Not Found\n",
      "Not Found\n",
      "Not Found\n",
      "Not Found\n",
      "Not Found\n",
      "Not Found\n",
      "Not Found\n",
      "Not Found\n",
      "Not Found\n",
      "Not Found\n",
      "Not Found\n",
      "Not Found\n",
      "Not Found\n"
     ]
    }
   ],
   "source": [
    "item = \"listings\" ## We can also extract reviews and calanders\n",
    "df_listings = {}  ## We can also extract reviews and calanders\n",
    "\n",
    "for date in our_dates:\n",
    "    url = \"http://data.insideairbnb.com/the-netherlands/north-holland/amsterdam/\" +date+ \"/data/\"+item+\".csv.gz\"\n",
    "    filename = item +\"_\"+ date +\".csv.gz\" \n",
    "    file_python = item +\"_\"+ date\n",
    "    try:\n",
    "        urllib.request.urlretrieve(url, filename)\n",
    "        print(\"found : \" + date)\n",
    "        unfilled = gzip.open(filename)\n",
    "        df_listings[file_python] = pd.read_csv(unfilled, usecols=listing_col)\n",
    "        \n",
    "    except urllib.error.URLError as e:\n",
    "        print(e.reason) \n"
   ]
  },
  {
   "cell_type": "code",
   "execution_count": 20,
   "metadata": {},
   "outputs": [
    {
     "data": {
      "text/plain": [
       "0           Private room\n",
       "1        Entire home/apt\n",
       "2           Private room\n",
       "3           Private room\n",
       "4        Entire home/apt\n",
       "5           Private room\n",
       "6        Entire home/apt\n",
       "7        Entire home/apt\n",
       "8        Entire home/apt\n",
       "9           Private room\n",
       "10          Private room\n",
       "11       Entire home/apt\n",
       "12          Private room\n",
       "13       Entire home/apt\n",
       "14       Entire home/apt\n",
       "15       Entire home/apt\n",
       "16          Private room\n",
       "17       Entire home/apt\n",
       "18          Private room\n",
       "19          Private room\n",
       "20          Private room\n",
       "21       Entire home/apt\n",
       "22       Entire home/apt\n",
       "23       Entire home/apt\n",
       "24       Entire home/apt\n",
       "25          Private room\n",
       "26          Private room\n",
       "27          Private room\n",
       "28       Entire home/apt\n",
       "29       Entire home/apt\n",
       "              ...       \n",
       "18747       Private room\n",
       "18748    Entire home/apt\n",
       "18749       Private room\n",
       "18750    Entire home/apt\n",
       "18751       Private room\n",
       "18752    Entire home/apt\n",
       "18753       Private room\n",
       "18754    Entire home/apt\n",
       "18755    Entire home/apt\n",
       "18756    Entire home/apt\n",
       "18757    Entire home/apt\n",
       "18758    Entire home/apt\n",
       "18759    Entire home/apt\n",
       "18760       Private room\n",
       "18761    Entire home/apt\n",
       "18762       Private room\n",
       "18763       Private room\n",
       "18764       Private room\n",
       "18765       Private room\n",
       "18766       Private room\n",
       "18767    Entire home/apt\n",
       "18768    Entire home/apt\n",
       "18769       Private room\n",
       "18770    Entire home/apt\n",
       "18771    Entire home/apt\n",
       "18772       Private room\n",
       "18773    Entire home/apt\n",
       "18774    Entire home/apt\n",
       "18775    Entire home/apt\n",
       "18776    Entire home/apt\n",
       "Name: room_type, Length: 18777, dtype: object"
      ]
     },
     "execution_count": 20,
     "metadata": {},
     "output_type": "execute_result"
    }
   ],
   "source": [
    "df_listings['listings_2018-01-10']\n",
    "\n",
    "df_listings['listings_2018-01-10']['room_type']\n"
   ]
  },
  {
   "cell_type": "markdown",
   "metadata": {},
   "source": [
    "## Cleansing"
   ]
  },
  {
   "cell_type": "code",
   "execution_count": null,
   "metadata": {},
   "outputs": [],
   "source": [
    "##Cleansing of price\n",
    "listing['price'] = listing['price'].str.replace(',','').str.replace('$','')\n"
   ]
  }
 ],
 "metadata": {
  "kernelspec": {
   "display_name": "Python 3",
   "language": "python",
   "name": "python3"
  },
  "language_info": {
   "codemirror_mode": {
    "name": "ipython",
    "version": 3
   },
   "file_extension": ".py",
   "mimetype": "text/x-python",
   "name": "python",
   "nbconvert_exporter": "python",
   "pygments_lexer": "ipython3",
   "version": "3.6.5"
  }
 },
 "nbformat": 4,
 "nbformat_minor": 2
}
